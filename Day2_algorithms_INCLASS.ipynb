{
 "cells": [
  {
   "cell_type": "markdown",
   "metadata": {},
   "source": [
    "# Algorithms, Binary Search & Linked Lists"
   ]
  },
  {
   "cell_type": "markdown",
   "metadata": {},
   "source": [
    "## Tasks Today:\n",
    " \n",
    "1) <b>In-Place Algorithms</b> <br>\n",
    " &nbsp;&nbsp;&nbsp;&nbsp; a) Syntax <br>\n",
    " &nbsp;&nbsp;&nbsp;&nbsp; a) Out of Place Algorithm <br>\n",
    " &nbsp;&nbsp;&nbsp;&nbsp; b) In-Class Exercise #1 <br>\n",
    "2) <b>Two Pointers</b> <br>\n",
    "3) <b>Linked Lists</b> <br>\n",
    "4) <b>Merge Sort</b> <br>\n",
    " &nbsp;&nbsp;&nbsp;&nbsp; a) Video on Algorithms <br>\n",
    " &nbsp;&nbsp;&nbsp;&nbsp; b) How it Works <br>\n",
    "5) <b>Exercises</b> <br>\n",
    " &nbsp;&nbsp;&nbsp;&nbsp; a) Exercise #1 - Reverse a List in Place Using an In-Place Algorithm <br>\n",
    " &nbsp;&nbsp;&nbsp;&nbsp; b) Exercise #2 - Find Distinct Words <br>\n",
    " &nbsp;&nbsp;&nbsp;&nbsp; c) Exercise #3 - Write a program to implement a Linear Search Algorithm. <br>"
   ]
  },
  {
   "cell_type": "markdown",
   "metadata": {},
   "source": [
    "## In-Place Algorithms"
   ]
  },
  {
   "cell_type": "markdown",
   "metadata": {},
   "source": [
    "#### Syntax"
   ]
  },
  {
   "cell_type": "code",
   "execution_count": 14,
   "metadata": {},
   "outputs": [
    {
     "name": "stdout",
     "output_type": "stream",
     "text": [
      "3\n",
      "[1, 3, 4, 8, 9]\n",
      "nums[left_point] = 1 nums[right_point] = 9\n",
      "None\n",
      "[9, 8, 4, 3, 1]\n",
      "[8, 9, 4, 3, 1]\n"
     ]
    }
   ],
   "source": [
    "nums = [9,3,1,8,4]\n",
    "print(nums[1])\n",
    "nums.sort()\n",
    "\n",
    "print(nums)\n",
    "\n",
    "def reverse_in_place(nums):\n",
    "    left_point = 0\n",
    "    right_point = len(nums) - 1\n",
    "    print(f'{nums[left_point] = } {nums[right_point] = }')\n",
    "    while left_point < right_point:\n",
    "        nums[left_point], nums[right_point] = nums[right_point], nums[left_point]\n",
    "        left_point += 1\n",
    "        right_point -= 1\n",
    "\n",
    "print(reverse_in_place(nums))\n",
    "\n",
    "print(nums)\n",
    "\n",
    "def swap_elements(alist, i_one, i_two):\n",
    "    alist[i_one], alist[i_two] = alist[i_two], alist[i_one]\n",
    "    \n",
    "swap_elements(nums, 0, 1)\n",
    "print(nums)"
   ]
  },
  {
   "cell_type": "markdown",
   "metadata": {},
   "source": [
    "#### Out of Place Algorithm"
   ]
  },
  {
   "cell_type": "code",
   "execution_count": 15,
   "metadata": {},
   "outputs": [
    {
     "name": "stdout",
     "output_type": "stream",
     "text": [
      "[1, 3, 7, 8, 9]\n",
      "[9, 8, 7, 3, 1]\n",
      "[8, 9, 7, 3, 1]\n",
      "[9, 8, 7, 3, 1]\n"
     ]
    }
   ],
   "source": [
    "nums2 = [9,8,7,3,1]\n",
    "\n",
    "sorted_nums2 = sorted(nums2)\n",
    "print(sorted_nums2)\n",
    "print(nums2)\n",
    "\n",
    "def swap_elements_copy(alist, i_one, i_two):\n",
    "    alist_copy = alist[:]\n",
    "    \n",
    "    alist_copy[i_one], alist_copy[i_two] = alist_copy[i_two], alist_copy[i_one]\n",
    "    return alist_copy\n",
    "\n",
    "print(swap_elements_copy(nums2, 0, 1))\n",
    "print(nums2)"
   ]
  },
  {
   "cell_type": "markdown",
   "metadata": {},
   "source": [
    "#### In-Class Exercise #1 <br>\n",
    "<p>Write a function that takes in four arguments (list, index1, index2, index3), and swaps those three positions in the list passed in.</p>"
   ]
  },
  {
   "cell_type": "code",
   "execution_count": 16,
   "metadata": {},
   "outputs": [
    {
     "name": "stdout",
     "output_type": "stream",
     "text": [
      "[3, 10, 4, 8, 4, 2, 6]\n",
      "[10, 4, 3, 8, 4, 2, 6]\n"
     ]
    }
   ],
   "source": [
    "l_1 = [10, 4, 3, 8, 4, 2, 6]\n",
    "\n",
    "def swap_places(l_1, i_1, i_2, i_3):\n",
    "    change_place = l_1[:]\n",
    "    change_place[i_1], change_place[i_2], change_place[i_3] = change_place[i_3], change_place[i_1], change_place[i_2]\n",
    "    return change_place\n",
    "print(swap_places(l_1, 0, 1, 2))\n",
    "print(l_1)\n"
   ]
  },
  {
   "cell_type": "markdown",
   "metadata": {},
   "source": [
    "## Two Pointers"
   ]
  },
  {
   "cell_type": "markdown",
   "metadata": {},
   "source": [
    "#### Syntax"
   ]
  },
  {
   "cell_type": "code",
   "execution_count": 17,
   "metadata": {},
   "outputs": [
    {
     "name": "stdout",
     "output_type": "stream",
     "text": [
      "True\n"
     ]
    }
   ],
   "source": [
    "'racecar'\n",
    "\n",
    "def check_palindrome(astring):\n",
    "    astring = astring.lower()\n",
    "    left_point, right_point = 0, len(astring) - 1\n",
    "    \n",
    "    while left_point < right_point:\n",
    "        if astring[left_point] != astring[right_point]:\n",
    "            return False\n",
    "        left_point += 1\n",
    "        right_point -= 1  \n",
    "    return True\n",
    "        \n",
    "print(check_palindrome('racecar'))"
   ]
  },
  {
   "cell_type": "markdown",
   "metadata": {},
   "source": [
    "#### Video of Algorithms <br>\n",
    "<p>Watch the video about algorithms.</p>\n",
    "\n",
    "https://www.youtube.com/watch?v=Q9HjeFD62Uk\n",
    "\n",
    "https://www.youtube.com/watch?v=kPRA0W1kECg\n",
    "\n",
    "https://www.youtube.com/watch?v=ZZuD6iUe3Pc"
   ]
  },
  {
   "cell_type": "markdown",
   "metadata": {},
   "source": [
    "# Sorting Algorithms"
   ]
  },
  {
   "cell_type": "markdown",
   "metadata": {},
   "source": [
    "#### Bubble Sort\n",
    "\n",
    "Worst Case: O(n^2) Time - O(1) Space"
   ]
  },
  {
   "cell_type": "code",
   "execution_count": 18,
   "metadata": {},
   "outputs": [
    {
     "name": "stdout",
     "output_type": "stream",
     "text": [
      "[1, 33, 77, 88, 99]\n"
     ]
    }
   ],
   "source": [
    "nums = [88,77,33,1,99]\n",
    "\n",
    "def bubble_sort(nums):\n",
    "    is_sorted = False\n",
    "    while not is_sorted:\n",
    "        is_sorted = True\n",
    "        pass_through = 1\n",
    "        for i in range(len(nums) - pass_through):\n",
    "            if nums[i] > nums[i+1]:\n",
    "                nums[i], nums[i+1] = nums[i+1], nums[i]\n",
    "                is_sorted = False\n",
    "        pass_through += 1\n",
    "                \n",
    "bubble_sort(nums)\n",
    "\n",
    "print(nums)"
   ]
  },
  {
   "cell_type": "markdown",
   "metadata": {},
   "source": [
    "##### Insertion Sort\n",
    "\n",
    "Worst Case: O(n^2) time - O(1)space"
   ]
  },
  {
   "cell_type": "code",
   "execution_count": 19,
   "metadata": {},
   "outputs": [
    {
     "name": "stdout",
     "output_type": "stream",
     "text": [
      "[11, 33, 77, 88, 99]\n"
     ]
    }
   ],
   "source": [
    "nums = [88,77,33,11,99]\n",
    "\n",
    "\n",
    "def insertion_sort(nums):\n",
    "    for i in range(1, len(nums)):\n",
    "        current_value = nums[i]\n",
    "        while i > 0 and current_value < nums[i - 1]:\n",
    "            nums[i] = nums[i - 1]\n",
    "            i -= 1\n",
    "        nums[i] = current_value\n",
    "\n",
    "insertion_sort(nums)\n",
    "print(nums)"
   ]
  },
  {
   "cell_type": "markdown",
   "metadata": {},
   "source": [
    "## Merge Sort"
   ]
  },
  {
   "cell_type": "markdown",
   "metadata": {},
   "source": [
    "#### How it Works"
   ]
  },
  {
   "cell_type": "code",
   "execution_count": 20,
   "metadata": {},
   "outputs": [
    {
     "name": "stdout",
     "output_type": "stream",
     "text": [
      "[11, 33, 77, 88, 99]\n"
     ]
    }
   ],
   "source": [
    "def merge_sort(nums):\n",
    "    middle = len(nums) // 2\n",
    "    left_half, right_half = nums[:middle], nums[middle:]\n",
    "    if len(nums) > 1:\n",
    "        merge_sort(left_half)       #this is the left slice [:]\n",
    "        merge_sort(right_half)       #this is the right slice [:]\n",
    "        \n",
    "    left_point, right_point, current_point = 0, 0, 0\n",
    "    # left_point = right_point = current_point = 0    this is another way to write the line above\n",
    "    \n",
    "    while left_point < len(left_half) and right_point < len(right_half):\n",
    "        if left_half[left_point] < right_half[right_point]:\n",
    "            nums[current_point] = left_half[left_point]\n",
    "            left_point += 1\n",
    "        else:\n",
    "            nums[current_point] = right_half[right_point]\n",
    "            right_point += 1\n",
    "        current_point += 1\n",
    "            \n",
    "    while left_point < len(left_half):\n",
    "        nums[current_point] = left_half[left_point]\n",
    "        left_point += 1\n",
    "        current_point += 1\n",
    "    \n",
    "    while right_point < len(right_half):\n",
    "        nums[current_point] = right_half[right_point]\n",
    "        right_point += 1\n",
    "        current_point += 1\n",
    "        \n",
    "merge_sort(nums)\n",
    "\n",
    "print(nums)\n",
    "    \n",
    "    #TLDR: Merge sort essentially grabs all of the items throws them into a basket, and pulls them out \n",
    "    # 1 by 1 to compare side by side and put them in the correct order."
   ]
  },
  {
   "cell_type": "markdown",
   "metadata": {},
   "source": [
    "# Binary Search\n",
    "\n",
    "The Binary Search algorithm works by finding the number in the middle of a given array and comparing it to the target. Given that the array is sorted\n",
    "\n",
    "* The worst case run time for this algorithm is `O(log(n))`"
   ]
  },
  {
   "cell_type": "code",
   "execution_count": null,
   "metadata": {},
   "outputs": [],
   "source": []
  },
  {
   "cell_type": "markdown",
   "metadata": {},
   "source": [
    "# Exercises"
   ]
  },
  {
   "cell_type": "markdown",
   "metadata": {},
   "source": [
    "### Exercise #1 <br>\n",
    "<p>Reverse the list below in-place using an in-place algorithm.<br>For extra credit: Reverse the strings at the same time.</p>"
   ]
  },
  {
   "cell_type": "code",
   "execution_count": 21,
   "metadata": {},
   "outputs": [
    {
     "name": "stdout",
     "output_type": "stream",
     "text": [
      "words[l] = 'this' words[r] = '.'\n",
      "None\n",
      "['.', 'sentence', 'a', 'is', 'this']\n"
     ]
    }
   ],
   "source": [
    "#extra credit: means reverse the spelling on the words too\n",
    "# something feels off about the way i set this up. \n",
    "# l=0 is grabbing the place furthest left. \n",
    "# r= len(words) - 1 is grabbing the furthest right element of the entire list (hence us using len())\n",
    "# the more i use f strings the easier they seem to understand.\n",
    "# the while loop is telling my func how to rearrange itself to match backwards\n",
    "words = ['this' , 'is', 'a', 'sentence', '.'] \n",
    "\n",
    "\n",
    "def rev_words(words):\n",
    "    l = 0\n",
    "    r = len(words) - 1\n",
    "    print(f'{words[l] = } {words[r] = }')\n",
    "    while l < r:\n",
    "        words[l], words[r] = words[r], words[l]\n",
    "        l += 1\n",
    "        r -= 1\n",
    "print(rev_words(words))\n",
    "\n",
    "print(words)\n"
   ]
  },
  {
   "cell_type": "markdown",
   "metadata": {},
   "source": [
    "### Exercise #2 <br>\n",
    "<p>Create a function that counts how many distinct words are in the string below, then outputs a dictionary with the words as the key and the value as the amount of times that word appears in the string.<br>Should output:<br>{'a': 5,<br>\n",
    " 'abstract': 1,<br>\n",
    " 'an': 3,<br>\n",
    " 'array': 2, ... etc...</p>"
   ]
  },
  {
   "cell_type": "code",
   "execution_count": 81,
   "metadata": {},
   "outputs": [
    {
     "name": "stdout",
     "output_type": "stream",
     "text": [
      "{'In': 1, 'computing,': 1, 'a': 4, 'hash': 4, 'table': 2, 'map': 2, 'is': 1, 'data': 2, 'structure': 2, 'which': 2, 'implements': 1, 'an': 3, 'associative': 1, 'array': 2, 'abstract': 1, 'type,': 1, 'that': 1, 'can': 2, 'keys': 1, 'to': 2, 'values.': 1, 'A': 1, 'uses': 1, 'function': 1, 'compute': 1, 'index': 1, 'into': 1, 'of': 1, 'buckets': 1, 'or': 1, 'slots': 1, 'from': 1, 'the': 1, 'desired': 1, 'value': 1, 'be': 1, 'found': 1}\n"
     ]
    }
   ],
   "source": [
    "a_text = 'In computing, a hash table hash map is a data structure which implements an associative array abstract data type, a structure that can map keys to values. A hash table uses a hash function to compute an index into an array of buckets or slots from which the desired value can be found'\n",
    "def count(a_text):\n",
    "    word_count = {}\n",
    "    words = a_text.split()\n",
    "    for word in words:\n",
    "        if word in word_count:\n",
    "            word_count[word] += 1\n",
    "        else:\n",
    "            word_count[word] = 1\n",
    "    return word_count\n",
    "    \n",
    "\n",
    "print(count(a_text))\n",
    "\n",
    "\n",
    "# this is funny. I had it printing the count for each specific letter. Come to find out\n",
    "# in the line for word in words, instead of \"words\" i had it set to \"a_text\" which prints out\n",
    "# each individual character as opposed to entire words.\n",
    "# i was also not able to count each word, without making use of a_text.split() \n",
    "# this is 2 days in a row ive used .split() Its starting be super useful with counting combined\n",
    "# strings and splitting up the string into sub strings in order to make the function work properly."
   ]
  },
  {
   "cell_type": "markdown",
   "metadata": {},
   "source": [
    "## Exercise #3\n",
    "\n",
    "Write a program to implement a Linear Search Algorithm. Also in a comment, write the Time Complexity of the following algorithm.\n",
    "\n",
    "#### Hint: Linear Searching will require searching a list for a given number. "
   ]
  },
  {
   "cell_type": "code",
   "execution_count": 70,
   "metadata": {},
   "outputs": [
    {
     "name": "stdout",
     "output_type": "stream",
     "text": [
      "True\n"
     ]
    }
   ],
   "source": [
    "#linear search means 1 pass through the list or iterable. Return True if element we looking for is there.\n",
    "# under 2nd if statement, you can modify what we're looking for in num = 420 line. It will return \n",
    "# whether or not the element is present with True or False. \n",
    "# ran into an issue with error after error, apparently i just needed to define alist. \n",
    "# i had over complicated this and tried to get it to print a specific set of words instead\n",
    "# True or False. slight oversight by me, wouldve saved 20 mins had i of wrote this in pseudo code.\n",
    "\n",
    "def find_needle(alist, num):\n",
    "    for i in range(0, num):\n",
    "        if alist[i] == num:\n",
    "            return True\n",
    "    return False\n",
    "\n",
    "if __name__ == \"__main__\":\n",
    "    alist = [5, 12, 13, 66, 69, 420, 890, 900, 1020, 455, 289, 689, 112, 23, 55, 1000]\n",
    "    num = len(alist)\n",
    "    num = 420                          #change this number to search the list i created.\n",
    "    print(find_needle(alist, num))\n",
    "\n",
    "        "
   ]
  },
  {
   "cell_type": "code",
   "execution_count": null,
   "metadata": {},
   "outputs": [],
   "source": []
  }
 ],
 "metadata": {
  "kernelspec": {
   "display_name": "Python 3 (ipykernel)",
   "language": "python",
   "name": "python3"
  },
  "language_info": {
   "codemirror_mode": {
    "name": "ipython",
    "version": 3
   },
   "file_extension": ".py",
   "mimetype": "text/x-python",
   "name": "python",
   "nbconvert_exporter": "python",
   "pygments_lexer": "ipython3",
   "version": "3.11.5"
  }
 },
 "nbformat": 4,
 "nbformat_minor": 2
}
